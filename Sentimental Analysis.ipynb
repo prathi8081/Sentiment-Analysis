{
 "cells": [
  {
   "cell_type": "code",
   "execution_count": 7,
   "metadata": {},
   "outputs": [],
   "source": [
    "from textblob import TextBlob\n",
    "\n",
    "\n"
   ]
  },
  {
   "cell_type": "code",
   "execution_count": 22,
   "metadata": {},
   "outputs": [
    {
     "name": "stdout",
     "output_type": "stream",
     "text": [
      "Sentiment(polarity=1.0, subjectivity=1.0)\n",
      "Sentiment(polarity=0.9099999999999999, subjectivity=0.7800000000000001)\n"
     ]
    }
   ],
   "source": [
    "Feedback1=\"This product is awesome\"\n",
    "Feedback2=\"This product is very good\"\n",
    "blob1=TextBlob(Feedback1)\n",
    "blob2=TextBlob(Feedback2)\n",
    "print(blob1.sentiment)\n",
    "print(blob2.sentiment)\n"
   ]
  },
  {
   "cell_type": "code",
   "execution_count": 34,
   "metadata": {},
   "outputs": [
    {
     "name": "stderr",
     "output_type": "stream",
     "text": [
      "[nltk_data] Downloading package punkt to\n",
      "[nltk_data]     C:\\Users\\home\\AppData\\Roaming\\nltk_data...\n",
      "[nltk_data]   Package punkt is already up-to-date!\n"
     ]
    },
    {
     "data": {
      "text/plain": [
       "WordList(['Python', 'is', 'a', 'high-level', 'general-purpose', 'programming', 'language'])"
      ]
     },
     "execution_count": 34,
     "metadata": {},
     "output_type": "execute_result"
    }
   ],
   "source": [
    "    import nltk\n",
    "    nltk.download('punkt')\n",
    "    wiki = TextBlob(\"Python is a high-level, general-purpose programming language.\")\n",
    "    wiki.words\n"
   ]
  },
  {
   "cell_type": "code",
   "execution_count": 33,
   "metadata": {},
   "outputs": [
    {
     "name": "stderr",
     "output_type": "stream",
     "text": [
      "[nltk_data] Downloading package averaged_perceptron_tagger to\n",
      "[nltk_data]     C:\\Users\\home\\AppData\\Roaming\\nltk_data...\n",
      "[nltk_data]   Unzipping taggers\\averaged_perceptron_tagger.zip.\n"
     ]
    },
    {
     "data": {
      "text/plain": [
       "[('Python', 'NNP'),\n",
       " ('is', 'VBZ'),\n",
       " ('a', 'DT'),\n",
       " ('high-level', 'JJ'),\n",
       " ('general-purpose', 'JJ'),\n",
       " ('programming', 'NN'),\n",
       " ('language', 'NN')]"
      ]
     },
     "execution_count": 33,
     "metadata": {},
     "output_type": "execute_result"
    }
   ],
   "source": [
    "nltk.download('averaged_perceptron_tagger')\n",
    "wiki.tags"
   ]
  },
  {
   "cell_type": "code",
   "execution_count": 13,
   "metadata": {},
   "outputs": [],
   "source": [
    "import csv\n",
    "from textblob import TextBlob\n"
   ]
  },
  {
   "cell_type": "code",
   "execution_count": 21,
   "metadata": {},
   "outputs": [
    {
     "name": "stdout",
     "output_type": "stream",
     "text": [
      "[('1', 'this product is awesome', 1.0), ('2', 'this product is very good', 0.9099999999999999), ('3', 'Quality of product is very good and price is very reasonable.', 0.585), ('4', 'unfortunate', -0.5), ('5', 'this product is poor', -0.4), ('6', 'substandard', 0.0), ('7', 'this product is very poor', -0.52), ('8', 'deficient and below par', -0.4), ('9', 'fabulous and super', 0.3666666666666667)]\n"
     ]
    }
   ],
   "source": [
    "myfilepath=\"D:\\Book1.csv\"\n",
    "writefilepath=\"D:\\abc.csv\"\n",
    "new_data1 = []\n",
    "with open(myfilepath,'r') as f:\n",
    "     mycsv = csv.reader(f)\n",
    "     for row in mycsv:\n",
    "         id=row[0]\n",
    "         text1=row[1]\n",
    "         result=TextBlob(text1)\n",
    "         new_data1.append((id,text1,result.sentiment.polarity))       \n",
    "print(new_data1)\n",
    "         \n",
    "        \n",
    "        \n",
    "  "
   ]
  },
  {
   "cell_type": "code",
   "execution_count": 22,
   "metadata": {},
   "outputs": [
    {
     "name": "stdout",
     "output_type": "stream",
     "text": [
      "0.11574074074074077\n"
     ]
    }
   ],
   "source": [
    "header=['id','review','rating']\n",
    "avg=0\n",
    "count=0\n",
    "with open('abc.csv','w',newline='') as w:             \n",
    "     writecsv = csv.writer(w,delimiter=',')\n",
    "     writecsv.writerow(i for i in header)\n",
    "     for word in new_data1:\n",
    "        writecsv.writerow([word[0],word[1],word[2]])\n",
    "        avg=avg+word[2]\n",
    "        count+=1\n",
    "print(avg/count)"
   ]
  },
  {
   "cell_type": "code",
   "execution_count": null,
   "metadata": {},
   "outputs": [],
   "source": []
  }
 ],
 "metadata": {
  "kernelspec": {
   "display_name": "Python 3",
   "language": "python",
   "name": "python3"
  },
  "language_info": {
   "codemirror_mode": {
    "name": "ipython",
    "version": 3
   },
   "file_extension": ".py",
   "mimetype": "text/x-python",
   "name": "python",
   "nbconvert_exporter": "python",
   "pygments_lexer": "ipython3",
   "version": "3.7.4"
  }
 },
 "nbformat": 4,
 "nbformat_minor": 2
}
