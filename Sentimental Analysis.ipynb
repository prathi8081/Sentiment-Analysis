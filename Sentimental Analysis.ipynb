{
 "cells": [
  {
   "cell_type": "code",
   "execution_count": 74,
   "metadata": {},
   "outputs": [],
   "source": [
    "from textblob import TextBlob"
   ]
  },
  {
   "cell_type": "code",
   "execution_count": 75,
   "metadata": {},
   "outputs": [
    {
     "name": "stdout",
     "output_type": "stream",
     "text": [
      "Sentiment(polarity=1.0, subjectivity=1.0)\n",
      "Sentiment(polarity=0.3499999999999999, subjectivity=0.6666666666666666)\n",
      "Sentiment(polarity=-0.6999999999999998, subjectivity=0.6666666666666666)\n",
      "Sentiment(polarity=0.7, subjectivity=0.6000000000000001)\n"
     ]
    }
   ],
   "source": [
    "Feedback1=\"This product is awesome\"\n",
    "Feedback2=\"This product is not bad\"\n",
    "Feedback3=\"This product is bad\"\n",
    "Feedback4=\"This product is good\"\n",
    "blob1=TextBlob(Feedback1)\n",
    "blob2=TextBlob(Feedback2)\n",
    "blob3=TextBlob(Feedback3)\n",
    "blob4=TextBlob(Feedback4)\n",
    "print(blob1.sentiment)\n",
    "print(blob2.sentiment)\n",
    "print(blob3.sentiment)\n",
    "print(blob4.sentiment)"
   ]
  },
  {
   "cell_type": "code",
   "execution_count": 76,
   "metadata": {},
   "outputs": [
    {
     "name": "stderr",
     "output_type": "stream",
     "text": [
      "[nltk_data] Downloading package punkt to\n",
      "[nltk_data]     C:\\Users\\home\\AppData\\Roaming\\nltk_data...\n",
      "[nltk_data]   Package punkt is already up-to-date!\n"
     ]
    },
    {
     "data": {
      "text/plain": [
       "WordList(['Python', 'is', 'a', 'high-level', 'general-purpose', 'programming', 'language'])"
      ]
     },
     "execution_count": 76,
     "metadata": {},
     "output_type": "execute_result"
    }
   ],
   "source": [
    "import nltk\n",
    "nltk.download('punkt')\n",
    "sen= TextBlob(\"Python is a high-level, general-purpose programming language.\")\n",
    "sen.words"
   ]
  },
  {
   "cell_type": "code",
   "execution_count": 77,
   "metadata": {},
   "outputs": [
    {
     "name": "stderr",
     "output_type": "stream",
     "text": [
      "[nltk_data] Downloading package averaged_perceptron_tagger to\n",
      "[nltk_data]     C:\\Users\\home\\AppData\\Roaming\\nltk_data...\n",
      "[nltk_data]   Package averaged_perceptron_tagger is already up-to-\n",
      "[nltk_data]       date!\n"
     ]
    },
    {
     "data": {
      "text/plain": [
       "[('Python', 'NNP'),\n",
       " ('is', 'VBZ'),\n",
       " ('a', 'DT'),\n",
       " ('high-level', 'JJ'),\n",
       " ('general-purpose', 'JJ'),\n",
       " ('programming', 'NN'),\n",
       " ('language', 'NN')]"
      ]
     },
     "execution_count": 77,
     "metadata": {},
     "output_type": "execute_result"
    }
   ],
   "source": [
    "nltk.download('averaged_perceptron_tagger')\n",
    "sen.tags"
   ]
  },
  {
   "cell_type": "code",
   "execution_count": 78,
   "metadata": {},
   "outputs": [],
   "source": [
    "import csv\n",
    "from textblob import TextBlob"
   ]
  },
  {
   "cell_type": "code",
   "execution_count": 80,
   "metadata": {},
   "outputs": [
    {
     "name": "stdout",
     "output_type": "stream",
     "text": [
      "('1', 'Amazing phone with amazing camera coming from iPhone 7 plus great service from amazon', 0.6666666666666666)\n",
      "('2', 'this product is very good', 0.9099999999999999)\n"
     ]
    }
   ],
   "source": [
    "myfilepath=\"D:\\Book1.csv\"\n",
    "writefilepath=\"C:\\..\\abc.csv\"\n",
    "new_data1 = []\n",
    "with open(myfilepath,'r') as f:\n",
    "     mycsv = csv.reader(f)\n",
    "     for row in mycsv:\n",
    "         id=row[0]\n",
    "         text1=row[1]\n",
    "         result=TextBlob(text1)\n",
    "         new_data1.append((id,text1,result.sentiment.polarity))       \n",
    "f.close()\n",
    "print(new_data1[0]) \n",
    "print(new_data1[1])"
   ]
  },
  {
   "cell_type": "code",
   "execution_count": 81,
   "metadata": {},
   "outputs": [
    {
     "name": "stdout",
     "output_type": "stream",
     "text": [
      "Number of Positive Reviews :  13\n",
      "Number of Negative Reviews :  10\n",
      "Average :  0.12790239068499937\n"
     ]
    }
   ],
   "source": [
    "header=['Id','Reviews','Rating']\n",
    "neg=0\n",
    "pos=0\n",
    "count=0\n",
    "avg=0\n",
    "with open('abc.csv','w',newline='') as w:             \n",
    "     writecsv = csv.writer(w,delimiter=',')\n",
    "     writecsv.writerow(i for i in header)\n",
    "     for word in new_data1:\n",
    "        writecsv.writerow([word[0],word[1],word[2]])\n",
    "        avg=avg+word[2]\n",
    "        if(word[2]<0):\n",
    "            neg+=1\n",
    "        else:\n",
    "            pos+=1\n",
    "        count+=1\n",
    "w.close()\n",
    "print(\"Number of Positive Reviews : \",pos)\n",
    "print(\"Number of Negative Reviews : \",neg)\n",
    "print(\"Average : \",avg/count)"
   ]
  },
  {
   "cell_type": "code",
   "execution_count": 82,
   "metadata": {},
   "outputs": [
    {
     "data": {
      "image/png": "[encoded data removed]",
      "text/plain": [
       "<Figure size 432x288 with 1 Axes>"
      ]
     },
     "metadata": {
      "needs_background": "light"
     },
     "output_type": "display_data"
    }
   ],
   "source": [
    "#Histogram\n",
    "import pandas as pd\n",
    "import matplotlib.pyplot as plt\n",
    "df=pd.DataFrame(new_data1,columns=['Id','Reviews','Rating'])\n",
    "df.hist()\n",
    "plt.show()"
   ]
  },
  {
   "cell_type": "code",
   "execution_count": 68,
   "metadata": {},
   "outputs": [
    {
     "data": {
      "image/png": "[encoded data removed]",
      "text/plain": [
       "<Figure size 432x288 with 1 Axes>"
      ]
     },
     "metadata": {
      "needs_background": "light"
     },
     "output_type": "display_data"
    }
   ],
   "source": [
    "#Column chart\n",
    "df.plot.bar() \n",
    "plt.bar(df['Id'], df['Rating']) \n",
    "plt.xlabel(\"Id\") \n",
    "plt.ylabel(\"Rating\") \n",
    "plt.show() "
   ]
  },
  {
   "cell_type": "code",
   "execution_count": 69,
   "metadata": {},
   "outputs": [
    {
     "data": {
      "text/plain": [
       "<seaborn.axisgrid.PairGrid at 0x281ebbd4a08>"
      ]
     },
     "execution_count": 69,
     "metadata": {},
     "output_type": "execute_result"
    },
    {
     "data": {
      "image/png": "[encoded data removed]",
      "text/plain": [
       "<Figure size 360x360 with 6 Axes>"
      ]
     },
     "metadata": {
      "needs_background": "light"
     },
     "output_type": "display_data"
    }
   ],
   "source": [
    "import seaborn as sns\n",
    "# Create the default pairplot\n",
    "sns.pairplot(df)"
   ]
  },
  {
   "cell_type": "code",
   "execution_count": 70,
   "metadata": {},
   "outputs": [
    {
     "data": {
      "image/png": "[encoded data removed]",
      "text/plain": [
       "<Figure size 432x288 with 1 Axes>"
      ]
     },
     "metadata": {
      "needs_background": "light"
     },
     "output_type": "display_data"
    }
   ],
   "source": [
    "#Box Plot\n",
    "df.plot.box() \n",
    "plt.boxplot(df['Rating']) \n",
    "plt.show()"
   ]
  },
  {
   "cell_type": "code",
   "execution_count": 71,
   "metadata": {},
   "outputs": [
    {
     "data": {
      "image/png": "[encoded data removed]",
      "text/plain": [
       "<Figure size 432x288 with 1 Axes>"
      ]
     },
     "metadata": {
      "needs_background": "light"
     },
     "output_type": "display_data"
    }
   ],
   "source": [
    "plt.scatter(df['Id'], df['Rating']) \n",
    "plt.show() \n",
    "  "
   ]
  },
  {
   "cell_type": "code",
   "execution_count": 72,
   "metadata": {},
   "outputs": [
    {
     "data": {
      "image/png": "[encoded data removed]",
      "text/plain": [
       "<Figure size 432x288 with 1 Axes>"
      ]
     },
     "metadata": {
      "needs_background": "light"
     },
     "output_type": "display_data"
    }
   ],
   "source": [
    "#Variable Plot\n",
    "import seaborn as sns \n",
    "sns.violinplot(df['Id'], df['Rating']) \n",
    "sns.despine()"
   ]
  },
  {
   "cell_type": "code",
   "execution_count": null,
   "metadata": {},
   "outputs": [],
   "source": []
  },
  {
   "cell_type": "code",
   "execution_count": null,
   "metadata": {},
   "outputs": [],
   "source": []
  }
 ],
 "metadata": {
  "kernelspec": {
   "display_name": "Python 3",
   "language": "python",
   "name": "python3"
  },
  "language_info": {
   "codemirror_mode": {
    "name": "ipython",
    "version": 3
   },
   "file_extension": ".py",
   "mimetype": "text/x-python",
   "name": "python",
   "nbconvert_exporter": "python",
   "pygments_lexer": "ipython3",
   "version": "3.7.4"
  }
 },
 "nbformat": 4,
 "nbformat_minor": 4
}
